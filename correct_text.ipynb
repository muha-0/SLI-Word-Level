{
 "cells": [
  {
   "cell_type": "code",
   "execution_count": 1,
   "metadata": {},
   "outputs": [
    {
     "name": "stdout",
     "output_type": "stream",
     "text": [
      "Corrected Text: perfecto\n"
     ]
    }
   ],
   "source": [
    "import requests\n",
    "\n",
    "SAPLING_API_KEY = \"S5ZNONKX6QZCR4VK53O21IIO8V77TQ4W\"\n",
    "SAPLING_API_URL = \"https://api.sapling.ai/api/v1/edits\"\n",
    "\n",
    "\n",
    "def correct_text(input_text):\n",
    "    payload = {\n",
    "        \"key\": SAPLING_API_KEY,\n",
    "        \"text\": input_text,\n",
    "        \"session_id\": \"test-session\"\n",
    "    }\n",
    "\n",
    "    response = requests.post(SAPLING_API_URL, json=payload)\n",
    "\n",
    "    if response.status_code == 200:\n",
    "        corrections = response.json().get('edits', [])\n",
    "        corrected_text = apply_corrections(input_text, corrections)\n",
    "        return corrected_text\n",
    "    else:\n",
    "        print(\"Error:\", response.json())\n",
    "        return input_text\n",
    "\n",
    "\n",
    "def apply_corrections(text, corrections):\n",
    "    for edit in corrections:\n",
    "        start = edit['start']\n",
    "        end = edit['end']\n",
    "        replacement = edit['replacement']\n",
    "        text = text[:start] + replacement + text[end:]\n",
    "    return text\n",
    "\n",
    "\n",
    "if __name__ == \"__main__\":\n",
    "    sample_text = \"perfecto\"\n",
    "    corrected = correct_text(sample_text)\n",
    "    print(\"Corrected Text:\", corrected)"
   ]
  }
 ],
 "metadata": {
  "kernelspec": {
   "display_name": "Python 3",
   "language": "python",
   "name": "python3"
  },
  "language_info": {
   "codemirror_mode": {
    "name": "ipython",
    "version": 3
   },
   "file_extension": ".py",
   "mimetype": "text/x-python",
   "name": "python",
   "nbconvert_exporter": "python",
   "pygments_lexer": "ipython3",
   "version": "3.13.1"
  }
 },
 "nbformat": 4,
 "nbformat_minor": 2
}
